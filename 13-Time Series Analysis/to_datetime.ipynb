{
  "nbformat": 4,
  "nbformat_minor": 0,
  "metadata": {
    "colab": {
      "name": "to_datetime.ipynb",
      "provenance": []
    },
    "kernelspec": {
      "name": "python3",
      "display_name": "Python 3"
    },
    "language_info": {
      "name": "python"
    }
  },
  "cells": [
    {
      "cell_type": "code",
      "execution_count": 2,
      "metadata": {
        "colab": {
          "base_uri": "https://localhost:8080/"
        },
        "id": "UmV6U_PyuTbA",
        "outputId": "06e6f62f-57fe-472e-867c-4a4b364533bf"
      },
      "outputs": [
        {
          "output_type": "execute_result",
          "data": {
            "text/plain": [
              "DatetimeIndex(['2017-01-05 14:30:00', '2017-01-05 23:00:00',\n",
              "               '2017-01-05 00:00:00', '2017-01-05 00:00:00',\n",
              "               '2017-01-05 00:00:00', '2017-01-05 00:00:00'],\n",
              "              dtype='datetime64[ns]', freq=None)"
            ]
          },
          "metadata": {},
          "execution_count": 2
        }
      ],
      "source": [
        "import pandas as pd\n",
        "dates = ['2017-01-05 2:30:00 PM', 'Jan 5, 2017 23:00:00', '01/05/2017', '2017.01.05', '2017/01/05','20170105']\n",
        "pd.to_datetime(dates)"
      ]
    },
    {
      "cell_type": "code",
      "source": [
        "pd.to_datetime('5/1/2017', dayfirst=True)"
      ],
      "metadata": {
        "colab": {
          "base_uri": "https://localhost:8080/"
        },
        "id": "u1dFswEFu9pI",
        "outputId": "cd0fc682-181a-46c8-f133-0b7bfe59c62d"
      },
      "execution_count": 4,
      "outputs": [
        {
          "output_type": "execute_result",
          "data": {
            "text/plain": [
              "Timestamp('2017-01-05 00:00:00')"
            ]
          },
          "metadata": {},
          "execution_count": 4
        }
      ]
    },
    {
      "cell_type": "code",
      "source": [
        "pd.to_datetime('5$1$2017', format='%d$%m$%Y')"
      ],
      "metadata": {
        "colab": {
          "base_uri": "https://localhost:8080/"
        },
        "id": "rdxQqOcVwCdt",
        "outputId": "2da86039-1b6c-41f1-b911-bd99bdc4c858"
      },
      "execution_count": 5,
      "outputs": [
        {
          "output_type": "execute_result",
          "data": {
            "text/plain": [
              "Timestamp('2017-01-05 00:00:00')"
            ]
          },
          "metadata": {},
          "execution_count": 5
        }
      ]
    },
    {
      "cell_type": "code",
      "source": [
        "dates = ['2017-01-05 2:30:00 PM', 'Jan 5, 2017 23:00:00', '01/05/2017', '2017.01.05', '2017/01/05','20170105', 'abc']\n",
        "pd.to_datetime(dates, errors='ignore')"
      ],
      "metadata": {
        "colab": {
          "base_uri": "https://localhost:8080/"
        },
        "id": "1-Umf0lawwQN",
        "outputId": "1f00be4e-5a55-4f02-e360-e993b73070e4"
      },
      "execution_count": 7,
      "outputs": [
        {
          "output_type": "execute_result",
          "data": {
            "text/plain": [
              "Index(['2017-01-05 2:30:00 PM', 'Jan 5, 2017 23:00:00', '01/05/2017',\n",
              "       '2017.01.05', '2017/01/05', '20170105', 'abc'],\n",
              "      dtype='object')"
            ]
          },
          "metadata": {},
          "execution_count": 7
        }
      ]
    },
    {
      "cell_type": "code",
      "source": [
        "current_epoch = 1501324478\n",
        "pd.to_datetime(current_epoch, unit='s')   # s = second"
      ],
      "metadata": {
        "colab": {
          "base_uri": "https://localhost:8080/"
        },
        "id": "5vfabyHWxHew",
        "outputId": "f9775325-e7e4-47af-af7c-c8a7a763a1c8"
      },
      "execution_count": 9,
      "outputs": [
        {
          "output_type": "execute_result",
          "data": {
            "text/plain": [
              "Timestamp('2017-07-29 10:34:38')"
            ]
          },
          "metadata": {},
          "execution_count": 9
        }
      ]
    },
    {
      "cell_type": "code",
      "source": [
        ""
      ],
      "metadata": {
        "id": "lzJ2Q2YQDwGf"
      },
      "execution_count": null,
      "outputs": []
    }
  ]
}